{
 "cells": [
  {
   "cell_type": "code",
   "execution_count": 1,
   "metadata": {},
   "outputs": [],
   "source": [
    "import open3d as o3d"
   ]
  },
  {
   "cell_type": "code",
   "execution_count": 12,
   "metadata": {},
   "outputs": [],
   "source": [
    "cloud = o3d.io.read_point_cloud(\"obj_1.ply\") # Read the point cloud"
   ]
  },
  {
   "cell_type": "code",
   "execution_count": 13,
   "metadata": {},
   "outputs": [],
   "source": [
    "downobj1 = cloud.voxel_down_sample(voxel_size=0.8)"
   ]
  },
  {
   "cell_type": "code",
   "execution_count": 14,
   "metadata": {},
   "outputs": [
    {
     "data": {
      "text/plain": [
       "True"
      ]
     },
     "execution_count": 14,
     "metadata": {},
     "output_type": "execute_result"
    }
   ],
   "source": [
    "o3d.io.write_point_cloud(\"obj1_8.pcd\", downobj1)"
   ]
  },
  {
   "cell_type": "code",
   "execution_count": 15,
   "metadata": {},
   "outputs": [
    {
     "data": {
      "text/plain": [
       "True"
      ]
     },
     "execution_count": 15,
     "metadata": {},
     "output_type": "execute_result"
    }
   ],
   "source": [
    "cloud = o3d.io.read_point_cloud(\"obj_2.ply\")\n",
    "downobj2 = cloud.voxel_down_sample(voxel_size=0.8)\n",
    "o3d.io.write_point_cloud(\"obj2_8.pcd\", downobj2)"
   ]
  },
  {
   "cell_type": "code",
   "execution_count": 16,
   "metadata": {},
   "outputs": [
    {
     "data": {
      "text/plain": [
       "True"
      ]
     },
     "execution_count": 16,
     "metadata": {},
     "output_type": "execute_result"
    }
   ],
   "source": [
    "cloud = o3d.io.read_point_cloud(\"obj_3.ply\")\n",
    "downobj3 = cloud.voxel_down_sample(voxel_size=0.8)\n",
    "o3d.io.write_point_cloud(\"obj3_8.pcd\", downobj3)"
   ]
  },
  {
   "cell_type": "code",
   "execution_count": 17,
   "metadata": {},
   "outputs": [
    {
     "data": {
      "text/plain": [
       "True"
      ]
     },
     "execution_count": 17,
     "metadata": {},
     "output_type": "execute_result"
    }
   ],
   "source": [
    "cloud = o3d.io.read_point_cloud(\"obj_4.ply\")\n",
    "downobj4 = cloud.voxel_down_sample(voxel_size=0.8)\n",
    "o3d.io.write_point_cloud(\"obj4_8.pcd\", downobj4)"
   ]
  },
  {
   "cell_type": "code",
   "execution_count": 18,
   "metadata": {},
   "outputs": [
    {
     "data": {
      "text/plain": [
       "True"
      ]
     },
     "execution_count": 18,
     "metadata": {},
     "output_type": "execute_result"
    }
   ],
   "source": [
    "cloud = o3d.io.read_point_cloud(\"obj_5.ply\")\n",
    "downobj5 = cloud.voxel_down_sample(voxel_size=0.8)\n",
    "o3d.io.write_point_cloud(\"obj5_8.pcd\", downobj5)"
   ]
  },
  {
   "cell_type": "code",
   "execution_count": 19,
   "metadata": {},
   "outputs": [
    {
     "data": {
      "text/plain": [
       "True"
      ]
     },
     "execution_count": 19,
     "metadata": {},
     "output_type": "execute_result"
    }
   ],
   "source": [
    "cloud = o3d.io.read_point_cloud(\"obj_6.ply\")\n",
    "downobj6 = cloud.voxel_down_sample(voxel_size=0.8)\n",
    "o3d.io.write_point_cloud(\"obj6_8.pcd\", downobj6)"
   ]
  },
  {
   "cell_type": "code",
   "execution_count": 20,
   "metadata": {},
   "outputs": [
    {
     "data": {
      "text/plain": [
       "True"
      ]
     },
     "execution_count": 20,
     "metadata": {},
     "output_type": "execute_result"
    }
   ],
   "source": [
    "cloud = o3d.io.read_point_cloud(\"obj_7.ply\")\n",
    "downobj7 = cloud.voxel_down_sample(voxel_size=0.8)\n",
    "o3d.io.write_point_cloud(\"obj7_8.pcd\", downobj7)"
   ]
  },
  {
   "cell_type": "code",
   "execution_count": 21,
   "metadata": {},
   "outputs": [
    {
     "data": {
      "text/plain": [
       "True"
      ]
     },
     "execution_count": 21,
     "metadata": {},
     "output_type": "execute_result"
    }
   ],
   "source": [
    "cloud = o3d.io.read_point_cloud(\"obj_8.ply\")\n",
    "downobj8 = cloud.voxel_down_sample(voxel_size=0.8)\n",
    "o3d.io.write_point_cloud(\"obj8_8.pcd\", downobj8)"
   ]
  },
  {
   "cell_type": "code",
   "execution_count": null,
   "metadata": {},
   "outputs": [],
   "source": []
  }
 ],
 "metadata": {
  "kernelspec": {
   "display_name": "Python 3",
   "language": "python",
   "name": "python3"
  },
  "language_info": {
   "codemirror_mode": {
    "name": "ipython",
    "version": 3
   },
   "file_extension": ".py",
   "mimetype": "text/x-python",
   "name": "python",
   "nbconvert_exporter": "python",
   "pygments_lexer": "ipython3",
   "version": "3.7.9"
  }
 },
 "nbformat": 4,
 "nbformat_minor": 4
}
